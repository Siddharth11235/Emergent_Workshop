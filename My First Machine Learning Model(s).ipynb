{
 "cells": [
  {
   "cell_type": "code",
   "execution_count": null,
   "metadata": {},
   "outputs": [],
   "source": [
    "pip install -r requirements.txt"
   ]
  },
  {
   "cell_type": "markdown",
   "metadata": {
    "slideshow": {
     "slide_type": "slide"
    }
   },
   "source": [
    "# The Case\n",
    "A Portuguese banking institution wants to optimize its next marketing campaign for a term deposit subscription. They have a list of current clients. They would like to know, based on various features, which clients are the likeliest to buy a term deposit. \n",
    "\n",
    "## The Task\n",
    "Train a model on the training data to predict which customers are likely to buy a term-deposit. Test this model on the data in bank_test.csv"
   ]
  },
  {
   "cell_type": "code",
   "execution_count": null,
   "metadata": {},
   "outputs": [],
   "source": [
    "import pandas as pd\n",
    "import numpy as np\n",
    "import seaborn as sns\n",
    "import matplotlib\n",
    "from matplotlib import pyplot as plt\n",
    "\n",
    "from sklearn.preprocessing import StandardScaler"
   ]
  },
  {
   "cell_type": "code",
   "execution_count": null,
   "metadata": {},
   "outputs": [],
   "source": [
    "dataset = pd.read_csv(\"bank.csv\")"
   ]
  },
  {
   "cell_type": "code",
   "execution_count": null,
   "metadata": {},
   "outputs": [],
   "source": [
    "dataset.head(5)"
   ]
  },
  {
   "cell_type": "markdown",
   "metadata": {},
   "source": [
    "1. Age: Well, age (Numeric)\n",
    "2. Job: Job (categorical: str)\n",
    "3. Marital: Marital status (Values: [single, married, divorced]: str)\n",
    "4. Education: Education level (Values: [primary, secondary, tertiary] :str)\n",
    "5. Default: Whether or not a client has defaulted on a loan before (Values: [yes, no]: str)\n",
    "6. Balance: Current account balance (Numeric)\n",
    "7. Housing: Whether or not a client has a home loan (Values: [yes, no]: str)\n",
    "8. Loan: Whether or not a client has a personal loan (Values: [yes, no]: str)\n",
    "9. Contact: On which device, if at all, has a customer previously been contacted (Values: [cellular,\n",
    "telehphone, unknown]: str)\n",
    "10. Month: Last month of contact (Values: months: str)\n",
    "11. Day: Day of last contact (Numeric)\n",
    "12. Campaign: The number of contacts reaching the customer during the current campaign (including the last contact) (Numeric)\n",
    "13. Pdays: The number of days since the previous campaign, if reached (-1 if it was never reached before) \n",
    "(Numeric)\n",
    "14. Previous: The number of contacts that reached the customer before this campaign. (Numeric\n",
    "15. Poutcome: Status of previous campaign. (Values: [succcess, failure, other, unknown] :str)"
   ]
  },
  {
   "cell_type": "markdown",
   "metadata": {},
   "source": [
    "# Exploratory Data Analysis and Data Cleaning"
   ]
  },
  {
   "cell_type": "code",
   "execution_count": null,
   "metadata": {},
   "outputs": [],
   "source": [
    "#Helper Functions adapted from various kaggle notebooks\n",
    "def plot_bar(variable):\n",
    "    var =dataset[variable]\n",
    "    varValue = var.value_counts()\n",
    "    plt.figure(figsize=(15,3))\n",
    "    plt.bar(varValue.index, varValue,color=['#00008b','#00e5ee','#cd1076', '#008080','#cd5555','red','blue',])\n",
    "    plt.xticks(varValue.index, varValue.index.values)\n",
    "    plt.ylabel(\"Frequency\")\n",
    "    plt.title(variable)\n",
    "    \n",
    "    plt.show()\n",
    "    print(\"{}: \\n {}\".format(variable,varValue))\n",
    "\n",
    "def plot_hist(variable):\n",
    "    plt.figure(figsize=(9,6))\n",
    "    plt.hist(dataset[variable], bins=40,color='red')\n",
    "    plt.xlabel(variable)\n",
    "    plt.ylabel(\"frequency\")\n",
    "    plt.title(\"{} distrubition with hist\".format(variable))\n",
    "    plt.show()\n",
    "    \n",
    "def plot_corr_num(variable):\n",
    "    pd.crosstab(dataset[variable],dataset.deposit).plot(kind=\"area\",figsize=(15,7),color=['red','blue' ])\n",
    "    plt.title(variable + '' +' Distribution')\n",
    "    plt.xlabel(variable)\n",
    "    plt.ylabel('Frequency')\n",
    "    plt.show()\n",
    "    \n",
    "def plot_corr_cat(variable):\n",
    "    pd.crosstab(dataset[variable],dataset.deposit).plot(kind=\"bar\",figsize=(15,7),color=['blue','red'])\n",
    "    plt.title(variable + ' Distribution')\n",
    "    plt.xlabel(variable)\n",
    "    plt.ylabel('Frequency')\n",
    "    plt.show()\n",
    "    \n",
    "def one_hot(dataset):\n",
    "    columns=dataset.select_dtypes(include=[object]).columns\n",
    "    dataset=pd.concat([dataset,pd.get_dummies(dataset[columns])],axis=1)\n",
    "    dataset=dataset.drop(['job','marital','education','default','housing','loan','contact','month','day','poutcome'],axis=1)\n",
    "    dataset.info()\n",
    "    dataset.head()\n",
    "    return dataset"
   ]
  },
  {
   "cell_type": "markdown",
   "metadata": {},
   "source": [
    "## EDA on Categorical data"
   ]
  },
  {
   "cell_type": "code",
   "execution_count": null,
   "metadata": {},
   "outputs": [],
   "source": []
  },
  {
   "cell_type": "markdown",
   "metadata": {},
   "source": [
    "## EDA on numerical data"
   ]
  },
  {
   "cell_type": "code",
   "execution_count": null,
   "metadata": {},
   "outputs": [],
   "source": []
  },
  {
   "cell_type": "markdown",
   "metadata": {},
   "source": [
    "## Analysing the output (response) variable"
   ]
  },
  {
   "cell_type": "code",
   "execution_count": null,
   "metadata": {},
   "outputs": [],
   "source": []
  },
  {
   "cell_type": "markdown",
   "metadata": {},
   "source": [
    "## Building the one-hot encodings"
   ]
  },
  {
   "cell_type": "code",
   "execution_count": null,
   "metadata": {},
   "outputs": [],
   "source": [
    "dataset = one_hot(dataset)\n",
    "dataset.head(5)"
   ]
  },
  {
   "cell_type": "markdown",
   "metadata": {},
   "source": [
    "### Clean some variables"
   ]
  },
  {
   "cell_type": "code",
   "execution_count": null,
   "metadata": {},
   "outputs": [],
   "source": [
    "#Example to clean binary variables\n",
    "\n",
    "def deposit_clean(deposit_val):\n",
    "    if(deposit_val=='yes'):\n",
    "        return(1)\n",
    "    elif(deposit_val=='no'):\n",
    "        return(0)\n",
    "dataset['depositNew'] = dataset['deposit'].apply(deposit_clean)\n",
    "dataset=dataset.drop(['deposit'],axis=1)\n",
    "dataset=dataset.drop(['deposit_no', 'deposit_yes'],axis=1)"
   ]
  },
  {
   "cell_type": "code",
   "execution_count": null,
   "metadata": {},
   "outputs": [],
   "source": [
    "#Feature engineering for numerical variable\n",
    "\n",
    "def pdays_change(pdays_val):\n",
    "    if(pdays_val == -1):\n",
    "        return(0)\n",
    "    elif(pdays_val >= 0):\n",
    "        return(1)\n",
    "dataset['pdays_new'] = dataset['pdays'].apply(pdays_change)\n",
    "dataset=dataset.drop(['pdays'],axis=1)"
   ]
  },
  {
   "cell_type": "markdown",
   "metadata": {},
   "source": [
    "## Scaling the numeric data (Use standardscaler)"
   ]
  },
  {
   "cell_type": "code",
   "execution_count": null,
   "metadata": {},
   "outputs": [],
   "source": []
  },
  {
   "cell_type": "markdown",
   "metadata": {},
   "source": [
    "# The Algorithms (the part we have been waiting for)"
   ]
  },
  {
   "cell_type": "markdown",
   "metadata": {},
   "source": [
    "What you will want to do here is to play with each algorithm (I will introduce you to a basic implementation), and tweak parameters to improve accuracy. Use the docs, tweak at random, do it however you will. We will then compare all the algorithms side by side. Lastly, we will run the algorithms on a test dataset. "
   ]
  },
  {
   "cell_type": "code",
   "execution_count": null,
   "metadata": {},
   "outputs": [],
   "source": [
    "from sklearn.model_selection import train_test_split\n",
    "from sklearn.metrics import classification_report, confusion_matrix\n",
    "from sklearn.metrics import accuracy_score\n",
    "from sklearn.metrics import confusion_matrix\n",
    "from sklearn.metrics import ConfusionMatrixDisplay\n",
    "from sklearn.metrics import f1_score\n",
    "from sklearn.linear_model import LogisticRegression\n",
    "from sklearn.linear_model import SGDClassifier\n",
    "from sklearn.tree import DecisionTreeClassifier"
   ]
  },
  {
   "cell_type": "code",
   "execution_count": null,
   "metadata": {},
   "outputs": [],
   "source": [
    "X_train, X_test, y_train, y_test = train_test_split( X, Y, test_size = 0.2, random_state = 100)\n",
    "\n",
    "accuracies = {}\n",
    "f1scores={}"
   ]
  },
  {
   "cell_type": "markdown",
   "metadata": {},
   "source": [
    "## Decision Tree Classifier"
   ]
  },
  {
   "cell_type": "code",
   "execution_count": null,
   "metadata": {},
   "outputs": [],
   "source": []
  },
  {
   "cell_type": "markdown",
   "metadata": {},
   "source": [
    "## Stochastic Gradient Descent Classifier"
   ]
  },
  {
   "cell_type": "code",
   "execution_count": null,
   "metadata": {},
   "outputs": [],
   "source": []
  },
  {
   "cell_type": "markdown",
   "metadata": {},
   "source": [
    "## Logistic Regression"
   ]
  },
  {
   "cell_type": "code",
   "execution_count": null,
   "metadata": {},
   "outputs": [],
   "source": []
  },
  {
   "cell_type": "markdown",
   "metadata": {},
   "source": [
    "## Comparing accuracies"
   ]
  },
  {
   "cell_type": "code",
   "execution_count": null,
   "metadata": {},
   "outputs": [],
   "source": [
    "#Helper function for viz\n",
    "def score_compare(score_dict, score_name):\n",
    "    colors = [\"red\", \"green\", \"blue\", \"cyan\",\"yellow\",'black']\n",
    "\n",
    "    sns.set_style(\"whitegrid\")\n",
    "    plt.figure(figsize=(16,5))\n",
    "    plt.yticks(np.arange(0,100,3))\n",
    "    plt.ylabel(score_name)\n",
    "    plt.xlabel(\"\\n\\n Algorithms\")\n",
    "    sns.barplot(x=list(score_dict.keys()), y=list(score_dict.values()), palette=colors)\n",
    "    plt.show()"
   ]
  },
  {
   "cell_type": "code",
   "execution_count": null,
   "metadata": {},
   "outputs": [],
   "source": []
  },
  {
   "cell_type": "markdown",
   "metadata": {},
   "source": [
    "# Test Data results"
   ]
  },
  {
   "cell_type": "markdown",
   "metadata": {},
   "source": [
    "Run your predictions on test data and see which model performs the best on completely unseen data."
   ]
  },
  {
   "cell_type": "code",
   "execution_count": null,
   "metadata": {},
   "outputs": [],
   "source": [
    "test_df = pd.read_csv('bank_test.csv')"
   ]
  },
  {
   "cell_type": "code",
   "execution_count": null,
   "metadata": {},
   "outputs": [],
   "source": []
  }
 ],
 "metadata": {
  "kernelspec": {
   "display_name": "Python 3",
   "language": "python",
   "name": "python3"
  },
  "language_info": {
   "codemirror_mode": {
    "name": "ipython",
    "version": 3
   },
   "file_extension": ".py",
   "mimetype": "text/x-python",
   "name": "python",
   "nbconvert_exporter": "python",
   "pygments_lexer": "ipython3",
   "version": "3.8.5"
  }
 },
 "nbformat": 4,
 "nbformat_minor": 4
}
